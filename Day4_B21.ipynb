{
 "cells": [
  {
   "cell_type": "code",
   "execution_count": null,
   "metadata": {},
   "outputs": [],
   "source": [
    "#Day4_B21\n",
    "\n",
    "#Introduction to list data types:\n",
    "#Introduction to Indexing\n",
    "#How to add and remove the elements\n"
   ]
  },
  {
   "cell_type": "code",
   "execution_count": 1,
   "metadata": {},
   "outputs": [
    {
     "data": {
      "text/plain": [
       "list"
      ]
     },
     "execution_count": 1,
     "metadata": {},
     "output_type": "execute_result"
    }
   ],
   "source": [
    "#Introduction to list data types:\n",
    "\n",
    "#-> A list is defines as ordered collection of items.\n",
    "#-> list is classified as mutable data type\n",
    "#-> The list is defined with Square [] bracket\n",
    "\n",
    "# Exampele as below:\n",
    "\n",
    "Students = ['Krishna', 'Sai', 'Pramod', 'Balu']\n",
    "\n",
    "type (Students)\n"
   ]
  },
  {
   "cell_type": "code",
   "execution_count": 2,
   "metadata": {},
   "outputs": [
    {
     "name": "stdout",
     "output_type": "stream",
     "text": [
      "Sai\n"
     ]
    }
   ],
   "source": [
    "#Introduction to Indexing: The indexing number starts from 0 as 0,1,2,3\n",
    "\n",
    "print (Students [1]) #Accessing the indiviual element on the output"
   ]
  },
  {
   "cell_type": "code",
   "execution_count": 4,
   "metadata": {},
   "outputs": [
    {
     "name": "stdout",
     "output_type": "stream",
     "text": [
      "['Krishna', 'Sai', 'Pramod', 'Balu']\n"
     ]
    }
   ],
   "source": [
    "#As list is mutable data type we can modify, alter and delete the elements in the list. Elements are nothing but the data provided in list\n",
    "\n",
    "print (Students)"
   ]
  },
  {
   "cell_type": "code",
   "execution_count": 5,
   "metadata": {},
   "outputs": [],
   "source": [
    "Students [1] = 'Teja' #Modifying the 1 element with another"
   ]
  },
  {
   "cell_type": "code",
   "execution_count": 6,
   "metadata": {},
   "outputs": [
    {
     "name": "stdout",
     "output_type": "stream",
     "text": [
      "Teja\n"
     ]
    }
   ],
   "source": [
    "print (Students [1])"
   ]
  },
  {
   "cell_type": "code",
   "execution_count": 7,
   "metadata": {},
   "outputs": [],
   "source": [
    "Students.append ('Sai') # append is used to add the element but we cannot specify the postion"
   ]
  },
  {
   "cell_type": "code",
   "execution_count": 8,
   "metadata": {},
   "outputs": [
    {
     "name": "stdout",
     "output_type": "stream",
     "text": [
      "['Krishna', 'Teja', 'Pramod', 'Balu', 'Sai']\n"
     ]
    }
   ],
   "source": [
    "print (Students)"
   ]
  },
  {
   "cell_type": "code",
   "execution_count": 9,
   "metadata": {},
   "outputs": [],
   "source": [
    "Students.insert (1, 'Sai') # to insert the element at Specific place in the list"
   ]
  },
  {
   "cell_type": "code",
   "execution_count": 10,
   "metadata": {},
   "outputs": [
    {
     "name": "stdout",
     "output_type": "stream",
     "text": [
      "['Krishna', 'Sai', 'Teja', 'Pramod', 'Balu', 'Sai']\n"
     ]
    }
   ],
   "source": [
    "print (Students)"
   ]
  },
  {
   "cell_type": "code",
   "execution_count": 11,
   "metadata": {},
   "outputs": [],
   "source": [
    "del Students [5] #To delet the elemet from the certain position"
   ]
  },
  {
   "cell_type": "code",
   "execution_count": 12,
   "metadata": {},
   "outputs": [
    {
     "name": "stdout",
     "output_type": "stream",
     "text": [
      "['Krishna', 'Sai', 'Teja', 'Pramod', 'Balu']\n"
     ]
    }
   ],
   "source": [
    "print (Students)"
   ]
  },
  {
   "cell_type": "code",
   "execution_count": 13,
   "metadata": {},
   "outputs": [],
   "source": [
    "X = Students.pop() # pop is used to remove the element from the list is the postion is not specified it will remove the last element"
   ]
  },
  {
   "cell_type": "code",
   "execution_count": 14,
   "metadata": {},
   "outputs": [
    {
     "name": "stdout",
     "output_type": "stream",
     "text": [
      "Balu\n"
     ]
    }
   ],
   "source": [
    "print (X)"
   ]
  },
  {
   "cell_type": "code",
   "execution_count": 17,
   "metadata": {},
   "outputs": [
    {
     "name": "stdout",
     "output_type": "stream",
     "text": [
      "['Krishna', 'Sai', 'Teja', 'Pramod']\n"
     ]
    }
   ],
   "source": [
    "print (Students)"
   ]
  },
  {
   "cell_type": "code",
   "execution_count": 19,
   "metadata": {},
   "outputs": [
    {
     "data": {
      "text/plain": [
       "'Sai'"
      ]
     },
     "execution_count": 19,
     "metadata": {},
     "output_type": "execute_result"
    }
   ],
   "source": [
    "Students.pop(1) # pop is used to remove the element from the specifef postion"
   ]
  },
  {
   "cell_type": "code",
   "execution_count": 20,
   "metadata": {},
   "outputs": [
    {
     "name": "stdout",
     "output_type": "stream",
     "text": [
      "['Krishna', 'Teja', 'Pramod']\n"
     ]
    }
   ],
   "source": [
    "print (Students)"
   ]
  },
  {
   "cell_type": "code",
   "execution_count": null,
   "metadata": {},
   "outputs": [],
   "source": []
  }
 ],
 "metadata": {
  "kernelspec": {
   "display_name": "Python 3",
   "language": "python",
   "name": "python3"
  },
  "language_info": {
   "codemirror_mode": {
    "name": "ipython",
    "version": 3
   },
   "file_extension": ".py",
   "mimetype": "text/x-python",
   "name": "python",
   "nbconvert_exporter": "python",
   "pygments_lexer": "ipython3",
   "version": "3.7.6"
  }
 },
 "nbformat": 4,
 "nbformat_minor": 4
}
