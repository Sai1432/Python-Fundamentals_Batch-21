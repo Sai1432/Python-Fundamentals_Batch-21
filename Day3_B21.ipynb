{
 "cells": [
  {
   "cell_type": "code",
   "execution_count": null,
   "metadata": {},
   "outputs": [],
   "source": [
    "#Day3_B21\n",
    "\n",
    "#Topics Covered:\n",
    "#Introduction to f Strings\n",
    "#General Suntax of f Strings\n",
    "#Enhancement of code\n",
    "#Additng and Removing white spaces to Strings"
   ]
  },
  {
   "cell_type": "code",
   "execution_count": null,
   "metadata": {},
   "outputs": [],
   "source": [
    "First_name = \"sai\"\n",
    "Last_name = \"teja\""
   ]
  },
  {
   "cell_type": "code",
   "execution_count": 28,
   "metadata": {},
   "outputs": [
    {
     "name": "stdout",
     "output_type": "stream",
     "text": [
      "sai Teja\n"
     ]
    }
   ],
   "source": [
    "#to use the f string as below\n",
    "\n",
    "#f '{Placeholder} {Place holder}' Place holder = String name\n",
    "\n",
    "full_name = F\"{First_name} {Last_name}\" # No spaces should be given \n",
    "\n",
    "print (full_name)"
   ]
  },
  {
   "cell_type": "code",
   "execution_count": 29,
   "metadata": {},
   "outputs": [
    {
     "name": "stdout",
     "output_type": "stream",
     "text": [
      "Sai Teja\n"
     ]
    }
   ],
   "source": [
    "#Enhancement of code:\n",
    "\n",
    "print (full_name.title())"
   ]
  },
  {
   "cell_type": "code",
   "execution_count": 31,
   "metadata": {},
   "outputs": [
    {
     "name": "stdout",
     "output_type": "stream",
     "text": [
      "Executed the code succesfully by Sai Teja\n"
     ]
    }
   ],
   "source": [
    "print (f'Executed the code succesfully by {full_name.title()}')"
   ]
  },
  {
   "cell_type": "code",
   "execution_count": 37,
   "metadata": {},
   "outputs": [
    {
     "name": "stdout",
     "output_type": "stream",
     "text": [
      "python\n",
      "\tpyhton\n",
      "fav sub:\n",
      "\tpython\n",
      "java\n",
      "c++\n"
     ]
    }
   ],
   "source": [
    "#Additng and deleting the white spaces\n",
    "\n",
    "print('python')\n",
    "print('\\tpyhton') #\\t used to give the implement the tab space\n",
    "print ('fav sub:\\n\\tpython\\njava\\nc++') #\\n used to popualte the data in the new line by using \\t we can give tab space when popualting"
   ]
  },
  {
   "cell_type": "code",
   "execution_count": 52,
   "metadata": {},
   "outputs": [
    {
     "name": "stdout",
     "output_type": "stream",
     "text": [
      "  pyhton  \n",
      "pyhton  \n"
     ]
    },
    {
     "data": {
      "text/plain": [
       "'  pyhton'"
      ]
     },
     "execution_count": 52,
     "metadata": {},
     "output_type": "execute_result"
    }
   ],
   "source": [
    "favlang =  '  pyhton  '\n",
    "\n",
    "print (favlang)\n",
    "print (f'{favlang.lstrip()}') #\n",
    "favlang.lstrip() # how to remove the quote here\n",
    "favlang.rstrip() # how to print both the out puts below"
   ]
  },
  {
   "cell_type": "code",
   "execution_count": null,
   "metadata": {},
   "outputs": [],
   "source": []
  }
 ],
 "metadata": {
  "kernelspec": {
   "display_name": "Python 3",
   "language": "python",
   "name": "python3"
  },
  "language_info": {
   "codemirror_mode": {
    "name": "ipython",
    "version": 3
   },
   "file_extension": ".py",
   "mimetype": "text/x-python",
   "name": "python",
   "nbconvert_exporter": "python",
   "pygments_lexer": "ipython3",
   "version": "3.7.6"
  }
 },
 "nbformat": 4,
 "nbformat_minor": 4
}
