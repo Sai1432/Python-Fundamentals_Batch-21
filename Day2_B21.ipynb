{
 "cells": [
  {
   "cell_type": "code",
   "execution_count": null,
   "metadata": {},
   "outputs": [],
   "source": [
    "Day 2 Python traing coverd topics:\n",
    "    \n",
    "    -> Introduction to Variables\n",
    "    Rules for declaring the varaibles\n",
    "    -> Classification of data types\n",
    "    Introduction to data types"
   ]
  },
  {
   "cell_type": "code",
   "execution_count": 1,
   "metadata": {},
   "outputs": [
    {
     "ename": "SyntaxError",
     "evalue": "invalid syntax (<ipython-input-1-9a705bc5ea3b>, line 5)",
     "output_type": "error",
     "traceback": [
      "\u001b[1;36m  File \u001b[1;32m\"<ipython-input-1-9a705bc5ea3b>\"\u001b[1;36m, line \u001b[1;32m5\u001b[0m\n\u001b[1;33m    First name = 'sai'\u001b[0m\n\u001b[1;37m             ^\u001b[0m\n\u001b[1;31mSyntaxError\u001b[0m\u001b[1;31m:\u001b[0m invalid syntax\n"
     ]
    }
   ],
   "source": [
    "#Introduction to Variables:\n",
    "#Rules for declaring the varaibles:\n",
    "#-> No name space should be given as below when declaring the variable\n",
    "        \n",
    "First name = 'sai'\n",
    "print (First name)"
   ]
  },
  {
   "cell_type": "code",
   "execution_count": 2,
   "metadata": {},
   "outputs": [
    {
     "name": "stdout",
     "output_type": "stream",
     "text": [
      "sai\n"
     ]
    }
   ],
   "source": [
    "#The variable should be declared as below in order to exucte\n",
    "Firstname = 'sai'\n",
    "print (Firstname)"
   ]
  },
  {
   "cell_type": "code",
   "execution_count": 3,
   "metadata": {},
   "outputs": [
    {
     "name": "stdout",
     "output_type": "stream",
     "text": [
      "sai sai1\n"
     ]
    }
   ],
   "source": [
    "#The variable should be declared as below in order to exucte without space\n",
    "Firstname = 'sai'\n",
    "First_name = 'sai1'\n",
    "print (Firstname, First_name)"
   ]
  },
  {
   "cell_type": "code",
   "execution_count": null,
   "metadata": {},
   "outputs": [],
   "source": [
    "The variable should not be declared with a number, but can start with the end or at the middle of the varibale\n",
    "No special charaters are allowed while declaring the varaible"
   ]
  },
  {
   "cell_type": "code",
   "execution_count": null,
   "metadata": {},
   "outputs": [],
   "source": [
    "Classification of data types:\n",
    "Immutable data type: We cannot able to change/alter or modify this data types\n",
    "Mutable data type: We can change/alter or modify this data typesIntroduction to data types:\n",
    "-> String data type (Integer, Float)\n",
    "-> List\n",
    "-> Tuple\n",
    "-> Dictionary"
   ]
  },
  {
   "cell_type": "code",
   "execution_count": null,
   "metadata": {},
   "outputs": [],
   "source": [
    "String data type: String is nothing but a series of character\n",
    "-> It is classifed as an immutable data type which cannot be change/alter or modify.\n",
    "-> String is defined with single, doubel and trible quotes '', \"\", \"\"\"\"\"\""
   ]
  },
  {
   "cell_type": "code",
   "execution_count": 4,
   "metadata": {},
   "outputs": [
    {
     "data": {
      "text/plain": [
       "str"
      ]
     },
     "execution_count": 4,
     "metadata": {},
     "output_type": "execute_result"
    }
   ],
   "source": [
    "#To verify the string method we can use type\n",
    "Firstname = 'sai'\n",
    "type (Firstname)"
   ]
  },
  {
   "cell_type": "code",
   "execution_count": 5,
   "metadata": {},
   "outputs": [
    {
     "name": "stdout",
     "output_type": "stream",
     "text": [
      "Sai\n",
      "SAI\n",
      "sai\n"
     ]
    }
   ],
   "source": [
    "#To change the output of the data we use below:\n",
    "Name = 'saI'\n",
    "print (Name.title())\n",
    "print (Name.upper())\n",
    "print (Name.lower())"
   ]
  },
  {
   "cell_type": "code",
   "execution_count": null,
   "metadata": {},
   "outputs": [],
   "source": []
  }
 ],
 "metadata": {
  "kernelspec": {
   "display_name": "Python 3",
   "language": "python",
   "name": "python3"
  },
  "language_info": {
   "codemirror_mode": {
    "name": "ipython",
    "version": 3
   },
   "file_extension": ".py",
   "mimetype": "text/x-python",
   "name": "python",
   "nbconvert_exporter": "python",
   "pygments_lexer": "ipython3",
   "version": "3.7.6"
  }
 },
 "nbformat": 4,
 "nbformat_minor": 4
}
