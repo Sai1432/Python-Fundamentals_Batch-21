{
 "cells": [
  {
   "cell_type": "code",
   "execution_count": null,
   "metadata": {},
   "outputs": [],
   "source": [
    "#Day5_B21 Topics covered\n",
    "\n",
    "#Organising the list by temporary sorting, permenant sorting and reversing the list as per the alphabet order\n",
    "#Introduction to for loop"
   ]
  },
  {
   "cell_type": "code",
   "execution_count": 1,
   "metadata": {},
   "outputs": [],
   "source": [
    "#Organising the list:\n",
    "\n",
    "cars = ['Audi', 'BMW', 'Tata nano', 'Tayoto Fortuner', 'Mahindra Scorpio', 'Ford Fiesta']"
   ]
  },
  {
   "cell_type": "code",
   "execution_count": 36,
   "metadata": {},
   "outputs": [
    {
     "name": "stdout",
     "output_type": "stream",
     "text": [
      "['Audi', 'Benz', 'Ford Fiesta', 'Mahindra Scorpio', 'Tata nano', 'Tayoto Fortuner']\n"
     ]
    },
    {
     "data": {
      "text/plain": [
       "list"
      ]
     },
     "execution_count": 36,
     "metadata": {},
     "output_type": "execute_result"
    }
   ],
   "source": [
    "print (cars)\n",
    "type (cars)"
   ]
  },
  {
   "cell_type": "code",
   "execution_count": 4,
   "metadata": {},
   "outputs": [
    {
     "name": "stdout",
     "output_type": "stream",
     "text": [
      "['Audi', 'Benz', 'Ford Fiesta', 'Mahindra Scorpio', 'Tata nano', 'Tayoto Fortuner']\n"
     ]
    }
   ],
   "source": [
    "print (sorted(cars)) #Temporary way to popualte the list in alphabet order"
   ]
  },
  {
   "cell_type": "code",
   "execution_count": 5,
   "metadata": {},
   "outputs": [
    {
     "name": "stdout",
     "output_type": "stream",
     "text": [
      "['Audi', 'Benz', 'Tata nano', 'Tayoto Fortuner', 'Mahindra Scorpio', 'Ford Fiesta']\n"
     ]
    }
   ],
   "source": [
    "print (cars)"
   ]
  },
  {
   "cell_type": "code",
   "execution_count": 7,
   "metadata": {},
   "outputs": [],
   "source": [
    "cars.sort() # It is used to sort the list in alphabet order permentatly"
   ]
  },
  {
   "cell_type": "code",
   "execution_count": 8,
   "metadata": {},
   "outputs": [
    {
     "name": "stdout",
     "output_type": "stream",
     "text": [
      "['Audi', 'Benz', 'Ford Fiesta', 'Mahindra Scorpio', 'Tata nano', 'Tayoto Fortuner']\n"
     ]
    }
   ],
   "source": [
    "print(cars)"
   ]
  },
  {
   "cell_type": "code",
   "execution_count": 13,
   "metadata": {},
   "outputs": [],
   "source": [
    "cars.reverse() #to print the list in reverse alphabet order permentatly"
   ]
  },
  {
   "cell_type": "code",
   "execution_count": 14,
   "metadata": {},
   "outputs": [
    {
     "name": "stdout",
     "output_type": "stream",
     "text": [
      "['Tayoto Fortuner', 'Tata nano', 'Mahindra Scorpio', 'Ford Fiesta', 'Benz', 'Audi']\n"
     ]
    }
   ],
   "source": [
    "print (cars)"
   ]
  },
  {
   "cell_type": "code",
   "execution_count": 15,
   "metadata": {},
   "outputs": [
    {
     "data": {
      "text/plain": [
       "6"
      ]
     },
     "execution_count": 15,
     "metadata": {},
     "output_type": "execute_result"
    }
   ],
   "source": [
    "len (cars) # It is used to count the no of elements in the list"
   ]
  },
  {
   "cell_type": "code",
   "execution_count": 16,
   "metadata": {},
   "outputs": [],
   "source": [
    "#For Loops:\n",
    "cars.sort()"
   ]
  },
  {
   "cell_type": "code",
   "execution_count": 37,
   "metadata": {},
   "outputs": [
    {
     "name": "stdout",
     "output_type": "stream",
     "text": [
      "['Audi', 'Benz', 'Ford Fiesta', 'Mahindra Scorpio', 'Tata nano', 'Tayoto Fortuner']\n"
     ]
    }
   ],
   "source": [
    "print (cars)"
   ]
  },
  {
   "cell_type": "code",
   "execution_count": 38,
   "metadata": {},
   "outputs": [],
   "source": [
    "cars[1]='BMW'"
   ]
  },
  {
   "cell_type": "code",
   "execution_count": 39,
   "metadata": {},
   "outputs": [
    {
     "name": "stdout",
     "output_type": "stream",
     "text": [
      "BMW, is the best car\n"
     ]
    }
   ],
   "source": [
    "print (f'{cars[1].upper()}, is the best car')"
   ]
  },
  {
   "cell_type": "code",
   "execution_count": 48,
   "metadata": {
    "scrolled": true
   },
   "outputs": [
    {
     "name": "stdout",
     "output_type": "stream",
     "text": [
      " AUDI is the best car\n",
      " BMW is the best car\n",
      " FORD FIESTA is the best car\n",
      " MAHINDRA SCORPIO is the best car\n",
      " TATA NANO is the best car\n",
      " TAYOTO FORTUNER is the best car\n"
     ]
    }
   ],
   "source": [
    "for Cars1 in cars:\n",
    "    print (f' {Cars1.upper()} is the best car') # to list all the elements are good"
   ]
  },
  {
   "cell_type": "code",
   "execution_count": null,
   "metadata": {},
   "outputs": [],
   "source": [
    "#General syntax of for loop:\n",
    "\n",
    "for tempvar in mianvar: # Tempvar is noting but where we are assingin the list to tempvar and mainvar is the list defined at first\n",
    "    print (tempvar)"
   ]
  },
  {
   "cell_type": "code",
   "execution_count": 49,
   "metadata": {},
   "outputs": [
    {
     "name": "stdout",
     "output_type": "stream",
     "text": [
      "AUDI\n",
      "BMW\n",
      "FORD FIESTA\n",
      "MAHINDRA SCORPIO\n",
      "TATA NANO\n",
      "TAYOTO FORTUNER\n"
     ]
    }
   ],
   "source": [
    "for x in cars:\n",
    "    print(x.upper())"
   ]
  },
  {
   "cell_type": "code",
   "execution_count": 56,
   "metadata": {},
   "outputs": [
    {
     "name": "stdout",
     "output_type": "stream",
     "text": [
      "  Python Fund  \n",
      "Python Fund\n",
      "Python Fund  \n"
     ]
    }
   ],
   "source": [
    "#Queries discussed of previous classes are regariding strip of extra white spaces\n",
    "#strip which will remove the white space from bith left and right\n",
    "#lstrip which will remove the extra white space from left\n",
    "#rstrip which will remove the extra white space from right\n",
    "\n",
    "#using of strip\n",
    "\n",
    "current_course = '  Python Fund  '\n",
    "\n",
    "print (current_course)\n",
    "print(current_course.strip())\n",
    "print (current_course.lstrip())"
   ]
  },
  {
   "cell_type": "code",
   "execution_count": 57,
   "metadata": {},
   "outputs": [
    {
     "name": "stdout",
     "output_type": "stream",
     "text": [
      "  Python Fund\n"
     ]
    }
   ],
   "source": [
    "print (current_course.rstrip())"
   ]
  },
  {
   "cell_type": "code",
   "execution_count": null,
   "metadata": {},
   "outputs": [],
   "source": []
  }
 ],
 "metadata": {
  "kernelspec": {
   "display_name": "Python 3",
   "language": "python",
   "name": "python3"
  },
  "language_info": {
   "codemirror_mode": {
    "name": "ipython",
    "version": 3
   },
   "file_extension": ".py",
   "mimetype": "text/x-python",
   "name": "python",
   "nbconvert_exporter": "python",
   "pygments_lexer": "ipython3",
   "version": "3.7.6"
  }
 },
 "nbformat": 4,
 "nbformat_minor": 4
}
